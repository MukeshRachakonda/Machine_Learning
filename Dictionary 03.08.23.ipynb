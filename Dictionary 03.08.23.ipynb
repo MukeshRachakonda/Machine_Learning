{
 "cells": [
  {
   "cell_type": "code",
   "execution_count": 4,
   "id": "a59e98b5",
   "metadata": {},
   "outputs": [
    {
     "name": "stdout",
     "output_type": "stream",
     "text": [
      "Ram age is 25\n",
      "Sita age is 22\n",
      "Laxman age is 20\n"
     ]
    }
   ],
   "source": [
    "list1=['Ram','Sita','Laxman']\n",
    "list2=[25,22,20]\n",
    "for i,j in zip(list1,list2):\n",
    "    print(i,'age is',j)\n"
   ]
  },
  {
   "cell_type": "code",
   "execution_count": 5,
   "id": "d1cb951a",
   "metadata": {},
   "outputs": [
    {
     "name": "stdout",
     "output_type": "stream",
     "text": [
      "Ram age is 25.\n",
      "Sita age is 22.\n",
      "Laxman age is 20.\n"
     ]
    }
   ],
   "source": [
    "list1=['Ram','Sita','Laxman']\n",
    "list2=[25,22,20]\n",
    "for i,j in zip(list1,list2):\n",
    "    print(\"{} age is {}.\".format(i,j))\n"
   ]
  },
  {
   "cell_type": "markdown",
   "id": "c32a54a5",
   "metadata": {},
   "source": [
    "##### dict1={\"Ram\":25,\"Sita\":22,\"Laxman\":20}\n",
    "\n",
    "- represent in curly braces\n",
    "- key-value of pair\n",
    "- keys:ram,sita,laxman\n",
    "- value:25,22,20"
   ]
  },
  {
   "cell_type": "markdown",
   "id": "22d4ed06",
   "metadata": {},
   "source": [
    "### - dictionary with key:pair\n",
    "- key can be string or any munber\n",
    "- value can be any value i.e; string,number,list,tuple,dict\n",
    "- dictionary will overrides the values\n",
    "- duplicates are not allowed\n"
   ]
  },
  {
   "cell_type": "code",
   "execution_count": 8,
   "id": "fece7e19",
   "metadata": {},
   "outputs": [],
   "source": [
    "dict1={\"A\":65,\"B\":66,\"C\":67}"
   ]
  },
  {
   "cell_type": "code",
   "execution_count": 19,
   "id": "f8254018",
   "metadata": {},
   "outputs": [
    {
     "ename": "ModuleNotFoundError",
     "evalue": "No module named 'pandas'",
     "output_type": "error",
     "traceback": [
      "\u001b[1;31m---------------------------------------------------------------------------\u001b[0m",
      "\u001b[1;31mModuleNotFoundError\u001b[0m                       Traceback (most recent call last)",
      "Cell \u001b[1;32mIn[19], line 3\u001b[0m\n\u001b[0;32m      1\u001b[0m dict2\u001b[38;5;241m=\u001b[39m{\u001b[38;5;124m\"\u001b[39m\u001b[38;5;124mName\u001b[39m\u001b[38;5;124m\"\u001b[39m:[\u001b[38;5;124m\"\u001b[39m\u001b[38;5;124mRam\u001b[39m\u001b[38;5;124m\"\u001b[39m,\u001b[38;5;124m\"\u001b[39m\u001b[38;5;124mSita\u001b[39m\u001b[38;5;124m\"\u001b[39m,\u001b[38;5;124m\"\u001b[39m\u001b[38;5;124mLaxman\u001b[39m\u001b[38;5;124m\"\u001b[39m],\n\u001b[0;32m      2\u001b[0m       \u001b[38;5;124m\"\u001b[39m\u001b[38;5;124mAge\u001b[39m\u001b[38;5;124m\"\u001b[39m:[\u001b[38;5;241m20\u001b[39m,\u001b[38;5;241m21\u001b[39m,\u001b[38;5;241m11\u001b[39m]}\n\u001b[1;32m----> 3\u001b[0m \u001b[38;5;28;01mimport\u001b[39;00m \u001b[38;5;21;01mpandas\u001b[39;00m \u001b[38;5;28;01mas\u001b[39;00m \u001b[38;5;21;01mpd\u001b[39;00m\n\u001b[0;32m      4\u001b[0m pd\u001b[38;5;241m.\u001b[39mdataframe\n",
      "\u001b[1;31mModuleNotFoundError\u001b[0m: No module named 'pandas'"
     ]
    }
   ],
   "source": [
    "dict2={\"Name\":[\"Ram\",\"Sita\",\"Laxman\"],\n",
    "      \"Age\":[20,21,11]}\n",
    "import pandas as pd                    ####### insatll panda module\n",
    "pd.dataframe"
   ]
  },
  {
   "cell_type": "code",
   "execution_count": 22,
   "id": "1178f5e3",
   "metadata": {},
   "outputs": [
    {
     "data": {
      "text/plain": [
       "'Age'"
      ]
     },
     "execution_count": 22,
     "metadata": {},
     "output_type": "execute_result"
    }
   ],
   "source": [
    "dict2={\"Name\":[\"Ram\",\"Sita\",\"Laxman\"],\n",
    "      \"Age\":[20,21,11]}              ### the max and min values are given between the keys(name,age) components not values\n",
    "min(dict2)"
   ]
  },
  {
   "cell_type": "code",
   "execution_count": 23,
   "id": "fc3f1ae0",
   "metadata": {},
   "outputs": [
    {
     "ename": "TypeError",
     "evalue": "'<' not supported between instances of 'str' and 'int'",
     "output_type": "error",
     "traceback": [
      "\u001b[1;31m---------------------------------------------------------------------------\u001b[0m",
      "\u001b[1;31mTypeError\u001b[0m                                 Traceback (most recent call last)",
      "Cell \u001b[1;32mIn[23], line 3\u001b[0m\n\u001b[0;32m      1\u001b[0m dict3\u001b[38;5;241m=\u001b[39m{\u001b[38;5;241m77\u001b[39m:\u001b[38;5;124m\"\u001b[39m\u001b[38;5;124ma\u001b[39m\u001b[38;5;124m\"\u001b[39m,\n\u001b[0;32m      2\u001b[0m       \u001b[38;5;124m\"\u001b[39m\u001b[38;5;124mAge\u001b[39m\u001b[38;5;124m\"\u001b[39m:[\u001b[38;5;241m20\u001b[39m,\u001b[38;5;241m21\u001b[39m,\u001b[38;5;241m11\u001b[39m]}\n\u001b[1;32m----> 3\u001b[0m \u001b[38;5;28;43mmin\u001b[39;49m\u001b[43m(\u001b[49m\u001b[43mdict3\u001b[49m\u001b[43m)\u001b[49m\n",
      "\u001b[1;31mTypeError\u001b[0m: '<' not supported between instances of 'str' and 'int'"
     ]
    }
   ],
   "source": [
    "dict3={77:\"a\",\n",
    "      \"Age\":[20,21,11]}\n",
    "min(dict3)"
   ]
  },
  {
   "cell_type": "code",
   "execution_count": 27,
   "id": "6b53fc4a",
   "metadata": {},
   "outputs": [
    {
     "data": {
      "text/plain": [
       "99"
      ]
     },
     "execution_count": 27,
     "metadata": {},
     "output_type": "execute_result"
    }
   ],
   "source": [
    "dict4={99:\"A\",\n",
    "      98:\"B\",\n",
    "      97:\"C\"}\n",
    "max(dict4)"
   ]
  },
  {
   "cell_type": "code",
   "execution_count": 28,
   "id": "124557c4",
   "metadata": {},
   "outputs": [
    {
     "ename": "TypeError",
     "evalue": "'>' not supported between instances of 'str' and 'int'",
     "output_type": "error",
     "traceback": [
      "\u001b[1;31m---------------------------------------------------------------------------\u001b[0m",
      "\u001b[1;31mTypeError\u001b[0m                                 Traceback (most recent call last)",
      "Cell \u001b[1;32mIn[28], line 4\u001b[0m\n\u001b[0;32m      1\u001b[0m dict4\u001b[38;5;241m=\u001b[39m{\u001b[38;5;241m99\u001b[39m:\u001b[38;5;124m\"\u001b[39m\u001b[38;5;124mA\u001b[39m\u001b[38;5;124m\"\u001b[39m,\n\u001b[0;32m      2\u001b[0m       \u001b[38;5;241m98\u001b[39m:\u001b[38;5;124m\"\u001b[39m\u001b[38;5;124mB\u001b[39m\u001b[38;5;124m\"\u001b[39m,\n\u001b[0;32m      3\u001b[0m      \u001b[38;5;124m\"\u001b[39m\u001b[38;5;124mC\u001b[39m\u001b[38;5;124m\"\u001b[39m:\u001b[38;5;241m87\u001b[39m}\n\u001b[1;32m----> 4\u001b[0m \u001b[38;5;28;43mmax\u001b[39;49m\u001b[43m(\u001b[49m\u001b[43mdict4\u001b[49m\u001b[43m)\u001b[49m\n",
      "\u001b[1;31mTypeError\u001b[0m: '>' not supported between instances of 'str' and 'int'"
     ]
    }
   ],
   "source": [
    "dict4={99:\"A\",\n",
    "      98:\"B\",\n",
    "     \"C\":87}\n",
    "max(dict4)"
   ]
  },
  {
   "cell_type": "code",
   "execution_count": 29,
   "id": "186cef6a",
   "metadata": {},
   "outputs": [
    {
     "ename": "TypeError",
     "evalue": "unsupported operand type(s) for *: 'dict' and 'int'",
     "output_type": "error",
     "traceback": [
      "\u001b[1;31m---------------------------------------------------------------------------\u001b[0m",
      "\u001b[1;31mTypeError\u001b[0m                                 Traceback (most recent call last)",
      "Cell \u001b[1;32mIn[29], line 3\u001b[0m\n\u001b[0;32m      1\u001b[0m dict4\u001b[38;5;241m=\u001b[39m{\u001b[38;5;241m99\u001b[39m:\u001b[38;5;124m\"\u001b[39m\u001b[38;5;124mA\u001b[39m\u001b[38;5;124m\"\u001b[39m,\u001b[38;5;241m98\u001b[39m:\u001b[38;5;124m\"\u001b[39m\u001b[38;5;124mB\u001b[39m\u001b[38;5;124m\"\u001b[39m,\u001b[38;5;241m97\u001b[39m:\u001b[38;5;124m\"\u001b[39m\u001b[38;5;124mC\u001b[39m\u001b[38;5;124m\"\u001b[39m}\n\u001b[0;32m      2\u001b[0m dict4\u001b[38;5;241m=\u001b[39m{\u001b[38;5;241m99\u001b[39m:\u001b[38;5;124m\"\u001b[39m\u001b[38;5;124ma\u001b[39m\u001b[38;5;124m\"\u001b[39m,\u001b[38;5;241m98\u001b[39m:\u001b[38;5;124m\"\u001b[39m\u001b[38;5;124mb\u001b[39m\u001b[38;5;124m\"\u001b[39m,\u001b[38;5;241m97\u001b[39m:\u001b[38;5;124m\"\u001b[39m\u001b[38;5;124mc\u001b[39m\u001b[38;5;124m\"\u001b[39m}\n\u001b[1;32m----> 3\u001b[0m \u001b[43mdict1\u001b[49m\u001b[38;5;241;43m*\u001b[39;49m\u001b[38;5;241;43m3\u001b[39;49m\n",
      "\u001b[1;31mTypeError\u001b[0m: unsupported operand type(s) for *: 'dict' and 'int'"
     ]
    }
   ],
   "source": [
    "dict4={99:\"A\",98:\"B\",97:\"C\"}\n",
    "dict4={92:\"a\",93:\"b\",95:\"c\"}\n",
    "dict1=dict2"
   ]
  },
  {
   "cell_type": "markdown",
   "id": "2c8fc075",
   "metadata": {},
   "source": [
    "- dictionary with key:pair\n",
    "- key can be string or any munber\n",
    "- value can be any value i.e; string,number,list,tuple,dict\n",
    "- dictionary will overrides the values\n",
    "- duplicates are not allowed\n",
    "- min and max are given only on keys\n",
    "- dictionary concatenation is not possible\n",
    "- these are mutable"
   ]
  },
  {
   "cell_type": "code",
   "execution_count": 32,
   "id": "edc477ad",
   "metadata": {},
   "outputs": [
    {
     "data": {
      "text/plain": [
       "'A'"
      ]
     },
     "execution_count": 32,
     "metadata": {},
     "output_type": "execute_result"
    }
   ],
   "source": [
    "dict4={99:\"A\",98:\"B\",97:\"C\"}\n",
    "dict4[99"
   ]
  },
  {
   "cell_type": "code",
   "execution_count": 33,
   "id": "f2a37c38",
   "metadata": {},
   "outputs": [
    {
     "data": {
      "text/plain": [
       "89"
      ]
     },
     "execution_count": 33,
     "metadata": {},
     "output_type": "execute_result"
    }
   ],
   "source": [
    "dict4={\"A\":89,\"B\":92,\"C\":22}\n",
    "dict4[\"A\"]"
   ]
  },
  {
   "cell_type": "markdown",
   "id": "b3fa90cf",
   "metadata": {},
   "source": [
    "##### - Dicts index can be called on only keys but not by value"
   ]
  },
  {
   "cell_type": "code",
   "execution_count": 35,
   "id": "87773eeb",
   "metadata": {},
   "outputs": [
    {
     "data": {
      "text/plain": [
       "34"
      ]
     },
     "execution_count": 35,
     "metadata": {},
     "output_type": "execute_result"
    }
   ],
   "source": [
    "dict4={\"A\":89,\"B\":[92,34,54],\"C\":22}\n",
    "dict4[\"B\"][1]"
   ]
  },
  {
   "cell_type": "code",
   "execution_count": 46,
   "id": "cbccec50",
   "metadata": {},
   "outputs": [
    {
     "data": {
      "text/plain": [
       "92"
      ]
     },
     "execution_count": 46,
     "metadata": {},
     "output_type": "execute_result"
    }
   ],
   "source": [
    "dict5={\"A\":89,\"B\":{\"assici\":92},\"C\":22}\n",
    "dict5[\"B\"][\"assici\"]"
   ]
  },
  {
   "cell_type": "code",
   "execution_count": 57,
   "id": "96956886",
   "metadata": {},
   "outputs": [
    {
     "name": "stdout",
     "output_type": "stream",
     "text": [
      "0\n",
      "1\n",
      "2\n"
     ]
    }
   ],
   "source": [
    "dict4={\"A\":89,\"B\":92,\"C\":22}\n",
    "for i in range(0,len(dict4)):\n",
    "    print(i)"
   ]
  },
  {
   "cell_type": "code",
   "execution_count": 58,
   "id": "279d3cfb",
   "metadata": {},
   "outputs": [],
   "source": [
    "dict={}\n",
    "dict[\"A\"]=100\n",
    "dict[\"B\"]=200\n",
    "dict[\"c\"]=300"
   ]
  },
  {
   "cell_type": "code",
   "execution_count": 59,
   "id": "b96f8f9b",
   "metadata": {},
   "outputs": [
    {
     "data": {
      "text/plain": [
       "{'A': 100, 'B': 200, 'c': 300}"
      ]
     },
     "execution_count": 59,
     "metadata": {},
     "output_type": "execute_result"
    }
   ],
   "source": [
    "dict"
   ]
  },
  {
   "cell_type": "code",
   "execution_count": 60,
   "id": "4c4f0691",
   "metadata": {},
   "outputs": [
    {
     "data": {
      "text/plain": [
       "{'A': 1000, 'B': 200, 'c': 300}"
      ]
     },
     "execution_count": 60,
     "metadata": {},
     "output_type": "execute_result"
    }
   ],
   "source": [
    "dict={}\n",
    "dict[\"A\"]=100\n",
    "dict[\"B\"]=200\n",
    "dict[\"c\"]=300\n",
    "dict[\"A\"]=1000\n",
    "dict"
   ]
  },
  {
   "cell_type": "markdown",
   "id": "67411d18",
   "metadata": {},
   "source": [
    " - string and tuple are immutable\n",
    "- list and dictionary are mutable"
   ]
  },
  {
   "cell_type": "code",
   "execution_count": 86,
   "id": "7b106c2a",
   "metadata": {},
   "outputs": [
    {
     "name": "stdout",
     "output_type": "stream",
     "text": [
      "how many numbers u want to take : 5\n",
      "enter a number :1\n",
      "enter a number :2\n",
      "enter a number :3\n",
      "enter a number :4\n",
      "enter a number :5\n"
     ]
    },
    {
     "data": {
      "text/plain": [
       "{'oddlist': [1, 3, 5], 'evenlist': [2, 4]}"
      ]
     },
     "execution_count": 86,
     "metadata": {},
     "output_type": "execute_result"
    }
   ],
   "source": [
    "evenlist=[]\n",
    "oddlist=[]\n",
    "dict={}\n",
    "num=eval(input(\"how many numbers u want to take : \"))\n",
    "for i in range(num):\n",
    "    num2=eval(input(\"enter a number :\"))\n",
    "    if num2%2==0:\n",
    "        evenlist.append(num2)\n",
    "        dict[\"evenlist\"]=evenlist        \n",
    "    else:\n",
    "        oddlist.append(num2)\n",
    "        dict[\"oddlist\"]=oddlist        \n",
    "dict        "
   ]
  },
  {
   "cell_type": "code",
   "execution_count": 88,
   "id": "f3c7491d",
   "metadata": {},
   "outputs": [
    {
     "data": {
      "text/plain": [
       "dict_keys(['A', 'B', 'C'])"
      ]
     },
     "execution_count": 88,
     "metadata": {},
     "output_type": "execute_result"
    }
   ],
   "source": [
    "dict1.keys()"
   ]
  },
  {
   "cell_type": "code",
   "execution_count": 89,
   "id": "56b4c4b6",
   "metadata": {},
   "outputs": [
    {
     "data": {
      "text/plain": [
       "dict_values([65, 66, 67])"
      ]
     },
     "execution_count": 89,
     "metadata": {},
     "output_type": "execute_result"
    }
   ],
   "source": [
    "dict1.values()"
   ]
  },
  {
   "cell_type": "code",
   "execution_count": 91,
   "id": "587004df",
   "metadata": {},
   "outputs": [
    {
     "data": {
      "text/plain": [
       "dict_items([('A', 65), ('B', 66), ('C', 67)])"
      ]
     },
     "execution_count": 91,
     "metadata": {},
     "output_type": "execute_result"
    }
   ],
   "source": [
    "dict1.items()"
   ]
  },
  {
   "cell_type": "code",
   "execution_count": 93,
   "id": "1dc73a77",
   "metadata": {},
   "outputs": [
    {
     "data": {
      "text/plain": [
       "dict_items"
      ]
     },
     "execution_count": 93,
     "metadata": {},
     "output_type": "execute_result"
    }
   ],
   "source": [
    "type(dict1.items())"
   ]
  },
  {
   "cell_type": "code",
   "execution_count": 94,
   "id": "b09cea31",
   "metadata": {},
   "outputs": [
    {
     "ename": "TypeError",
     "evalue": "'dict_items' object is not subscriptable",
     "output_type": "error",
     "traceback": [
      "\u001b[1;31m---------------------------------------------------------------------------\u001b[0m",
      "\u001b[1;31mTypeError\u001b[0m                                 Traceback (most recent call last)",
      "Cell \u001b[1;32mIn[94], line 1\u001b[0m\n\u001b[1;32m----> 1\u001b[0m \u001b[43mdict1\u001b[49m\u001b[38;5;241;43m.\u001b[39;49m\u001b[43mitems\u001b[49m\u001b[43m(\u001b[49m\u001b[43m)\u001b[49m\u001b[43m[\u001b[49m\u001b[38;5;241;43m0\u001b[39;49m\u001b[43m]\u001b[49m\n",
      "\u001b[1;31mTypeError\u001b[0m: 'dict_items' object is not subscriptable"
     ]
    }
   ],
   "source": [
    "dict1.items()[0]    ## it is subsctribale because it is not a list"
   ]
  },
  {
   "cell_type": "code",
   "execution_count": 95,
   "id": "a558adfa",
   "metadata": {},
   "outputs": [
    {
     "data": {
      "text/plain": [
       "[('A', 65), ('B', 66), ('C', 67)]"
      ]
     },
     "execution_count": 95,
     "metadata": {},
     "output_type": "execute_result"
    }
   ],
   "source": [
    "items=list(dict1.items())   ## now it became list as list format\n",
    "items"
   ]
  },
  {
   "cell_type": "code",
   "execution_count": 97,
   "id": "eea883b9",
   "metadata": {},
   "outputs": [
    {
     "data": {
      "text/plain": [
       "'A'"
      ]
     },
     "execution_count": 97,
     "metadata": {},
     "output_type": "execute_result"
    }
   ],
   "source": [
    "items[0][0]"
   ]
  },
  {
   "cell_type": "code",
   "execution_count": 98,
   "id": "5796b554",
   "metadata": {},
   "outputs": [
    {
     "data": {
      "text/plain": [
       "list"
      ]
     },
     "execution_count": 98,
     "metadata": {},
     "output_type": "execute_result"
    }
   ],
   "source": [
    "type(items)"
   ]
  },
  {
   "cell_type": "code",
   "execution_count": 99,
   "id": "4b2a6c1f",
   "metadata": {},
   "outputs": [
    {
     "name": "stdout",
     "output_type": "stream",
     "text": [
      "('A', 65)\n",
      "('B', 66)\n",
      "('C', 67)\n"
     ]
    }
   ],
   "source": [
    "for i in items:\n",
    "    print(i)"
   ]
  },
  {
   "cell_type": "code",
   "execution_count": 100,
   "id": "558e5efc",
   "metadata": {},
   "outputs": [
    {
     "name": "stdout",
     "output_type": "stream",
     "text": [
      "A 65\n",
      "B 66\n",
      "C 67\n"
     ]
    }
   ],
   "source": [
    "for i,j in items:\n",
    "    print(i,j)"
   ]
  },
  {
   "cell_type": "code",
   "execution_count": 101,
   "id": "52e1e4ee",
   "metadata": {},
   "outputs": [
    {
     "name": "stdout",
     "output_type": "stream",
     "text": [
      "20\n",
      "30\n"
     ]
    }
   ],
   "source": [
    "a,b=20,30\n",
    "print(a)\n",
    "print(b)"
   ]
  },
  {
   "cell_type": "code",
   "execution_count": 108,
   "id": "6764d26f",
   "metadata": {},
   "outputs": [
    {
     "data": {
      "text/plain": [
       "(10, 20)"
      ]
     },
     "execution_count": 108,
     "metadata": {},
     "output_type": "execute_result"
    }
   ],
   "source": [
    "a=10,20\n",
    "a"
   ]
  },
  {
   "cell_type": "code",
   "execution_count": 111,
   "id": "1d787e89",
   "metadata": {},
   "outputs": [
    {
     "name": "stdout",
     "output_type": "stream",
     "text": [
      "[('A', 65), ('B', 66), ('C', 67)]\n",
      "<class 'list'>\n",
      "('A', 65)\n",
      "('B', 66)\n",
      "('C', 67)\n",
      "A 65\n",
      "B 66\n",
      "C 67\n"
     ]
    }
   ],
   "source": [
    "dict1={\"A\":65,\"B\":66,\"C\":67}\n",
    "dict1.items()\n",
    "items=list(dict1.items())\n",
    "print(items)\n",
    "print(type(items))\n",
    "\n",
    "for i in items:\n",
    "    print(i)\n",
    "    \n",
    "    \n",
    "for  i,j in items:\n",
    "    print(i,j)"
   ]
  },
  {
   "cell_type": "code",
   "execution_count": null,
   "id": "ea0ff7ee",
   "metadata": {},
   "outputs": [],
   "source": [
    "li\n",
    "for list1,list2 in "
   ]
  },
  {
   "cell_type": "markdown",
   "id": "8b0beb4f",
   "metadata": {},
   "source": [
    "# 04.08.23"
   ]
  },
  {
   "cell_type": "code",
   "execution_count": 15,
   "id": "d0be2049",
   "metadata": {},
   "outputs": [
    {
     "name": "stdout",
     "output_type": "stream",
     "text": [
      "{'A': 65, 'B': 66, 'C': 67}\n",
      "{}\n"
     ]
    }
   ],
   "source": [
    "dict1={\"A\":65,\"B\":66,\"C\":67}\n",
    "dict2=dict1.copy()\n",
    "print(dict2)\n",
    "dict1.clear()\n",
    "print(dict1)"
   ]
  },
  {
   "cell_type": "code",
   "execution_count": 16,
   "id": "a7357380",
   "metadata": {},
   "outputs": [
    {
     "data": {
      "text/plain": [
       "dict"
      ]
     },
     "execution_count": 16,
     "metadata": {},
     "output_type": "execute_result"
    }
   ],
   "source": [
    "type(dict1)"
   ]
  },
  {
   "cell_type": "code",
   "execution_count": 18,
   "id": "6aeb0b19",
   "metadata": {},
   "outputs": [
    {
     "data": {
      "text/plain": [
       "66"
      ]
     },
     "execution_count": 18,
     "metadata": {},
     "output_type": "execute_result"
    }
   ],
   "source": [
    "# pop\n",
    "dict2.pop(\"B\")"
   ]
  },
  {
   "cell_type": "code",
   "execution_count": 19,
   "id": "db24df14",
   "metadata": {},
   "outputs": [
    {
     "data": {
      "text/plain": [
       "{'C': 67}"
      ]
     },
     "execution_count": 19,
     "metadata": {},
     "output_type": "execute_result"
    }
   ],
   "source": [
    "dict2"
   ]
  },
  {
   "cell_type": "code",
   "execution_count": 22,
   "id": "465be969",
   "metadata": {},
   "outputs": [
    {
     "data": {
      "text/plain": [
       "('C', 67)"
      ]
     },
     "execution_count": 22,
     "metadata": {},
     "output_type": "execute_result"
    }
   ],
   "source": [
    "dict2.popitem()"
   ]
  },
  {
   "cell_type": "code",
   "execution_count": 23,
   "id": "2bac171e",
   "metadata": {},
   "outputs": [
    {
     "data": {
      "text/plain": [
       "{}"
      ]
     },
     "execution_count": 23,
     "metadata": {},
     "output_type": "execute_result"
    }
   ],
   "source": [
    "dict2"
   ]
  },
  {
   "cell_type": "code",
   "execution_count": 24,
   "id": "c9c2b7be",
   "metadata": {},
   "outputs": [
    {
     "data": {
      "text/plain": [
       "['__class__',\n",
       " '__class_getitem__',\n",
       " '__contains__',\n",
       " '__delattr__',\n",
       " '__delitem__',\n",
       " '__dir__',\n",
       " '__doc__',\n",
       " '__eq__',\n",
       " '__format__',\n",
       " '__ge__',\n",
       " '__getattribute__',\n",
       " '__getitem__',\n",
       " '__getstate__',\n",
       " '__gt__',\n",
       " '__hash__',\n",
       " '__init__',\n",
       " '__init_subclass__',\n",
       " '__ior__',\n",
       " '__iter__',\n",
       " '__le__',\n",
       " '__len__',\n",
       " '__lt__',\n",
       " '__ne__',\n",
       " '__new__',\n",
       " '__or__',\n",
       " '__reduce__',\n",
       " '__reduce_ex__',\n",
       " '__repr__',\n",
       " '__reversed__',\n",
       " '__ror__',\n",
       " '__setattr__',\n",
       " '__setitem__',\n",
       " '__sizeof__',\n",
       " '__str__',\n",
       " '__subclasshook__',\n",
       " 'clear',\n",
       " 'copy',\n",
       " 'fromkeys',\n",
       " 'get',\n",
       " 'items',\n",
       " 'keys',\n",
       " 'pop',\n",
       " 'popitem',\n",
       " 'setdefault',\n",
       " 'update',\n",
       " 'values']"
      ]
     },
     "execution_count": 24,
     "metadata": {},
     "output_type": "execute_result"
    }
   ],
   "source": [
    "dir(dict2)"
   ]
  },
  {
   "cell_type": "code",
   "execution_count": 25,
   "id": "23688c9a",
   "metadata": {},
   "outputs": [],
   "source": [
    "dict2=[\"ra,esh\"]"
   ]
  },
  {
   "cell_type": "code",
   "execution_count": 26,
   "id": "f816d9e2",
   "metadata": {},
   "outputs": [
    {
     "data": {
      "text/plain": [
       "['ra,esh']"
      ]
     },
     "execution_count": 26,
     "metadata": {},
     "output_type": "execute_result"
    }
   ],
   "source": [
    "dict2"
   ]
  },
  {
   "cell_type": "code",
   "execution_count": 27,
   "id": "6c143afd",
   "metadata": {},
   "outputs": [],
   "source": [
    "del dict2"
   ]
  },
  {
   "cell_type": "code",
   "execution_count": 28,
   "id": "72158a65",
   "metadata": {},
   "outputs": [
    {
     "ename": "NameError",
     "evalue": "name 'dict2' is not defined",
     "output_type": "error",
     "traceback": [
      "\u001b[1;31m---------------------------------------------------------------------------\u001b[0m",
      "\u001b[1;31mNameError\u001b[0m                                 Traceback (most recent call last)",
      "Cell \u001b[1;32mIn[28], line 1\u001b[0m\n\u001b[1;32m----> 1\u001b[0m \u001b[43mdict2\u001b[49m\n",
      "\u001b[1;31mNameError\u001b[0m: name 'dict2' is not defined"
     ]
    }
   ],
   "source": [
    "dict2"
   ]
  },
  {
   "cell_type": "code",
   "execution_count": 29,
   "id": "99181224",
   "metadata": {},
   "outputs": [],
   "source": [
    "dict2={\"A\":3,\"B\":4,\"C\":5}"
   ]
  },
  {
   "cell_type": "code",
   "execution_count": 30,
   "id": "5b629438",
   "metadata": {},
   "outputs": [],
   "source": [
    "dict2[\"D\"]=7"
   ]
  },
  {
   "cell_type": "code",
   "execution_count": 31,
   "id": "5f995c27",
   "metadata": {},
   "outputs": [
    {
     "data": {
      "text/plain": [
       "{'A': 3, 'B': 4, 'C': 5, 'D': 7}"
      ]
     },
     "execution_count": 31,
     "metadata": {},
     "output_type": "execute_result"
    }
   ],
   "source": [
    "dict2"
   ]
  },
  {
   "cell_type": "markdown",
   "id": "32fa1213",
   "metadata": {},
   "source": [
    "##### - Get"
   ]
  },
  {
   "cell_type": "code",
   "execution_count": 32,
   "id": "46d04ad4",
   "metadata": {},
   "outputs": [
    {
     "data": {
      "text/plain": [
       "3"
      ]
     },
     "execution_count": 32,
     "metadata": {},
     "output_type": "execute_result"
    }
   ],
   "source": [
    "dict2.get(\"A\")"
   ]
  },
  {
   "cell_type": "code",
   "execution_count": 35,
   "id": "b60900de",
   "metadata": {},
   "outputs": [
    {
     "data": {
      "text/plain": [
       "7"
      ]
     },
     "execution_count": 35,
     "metadata": {},
     "output_type": "execute_result"
    }
   ],
   "source": [
    "dict2.get(\"D\")"
   ]
  },
  {
   "cell_type": "code",
   "execution_count": 36,
   "id": "add1e553",
   "metadata": {},
   "outputs": [
    {
     "data": {
      "text/plain": [
       "{'A': 3, 'B': 4, 'C': 5, 'D': 7}"
      ]
     },
     "execution_count": 36,
     "metadata": {},
     "output_type": "execute_result"
    }
   ],
   "source": [
    "dict2"
   ]
  },
  {
   "cell_type": "code",
   "execution_count": 38,
   "id": "4d94cc30",
   "metadata": {},
   "outputs": [
    {
     "data": {
      "text/plain": [
       "3"
      ]
     },
     "execution_count": 38,
     "metadata": {},
     "output_type": "execute_result"
    }
   ],
   "source": [
    "dict2.get(\"A\",432874623)   ## here you have given value but it will nit show error cause it is not considerd"
   ]
  },
  {
   "cell_type": "markdown",
   "id": "42a32103",
   "metadata": {},
   "source": [
    "##### -set - as -default"
   ]
  },
  {
   "cell_type": "code",
   "execution_count": 47,
   "id": "4b3c7574",
   "metadata": {},
   "outputs": [
    {
     "data": {
      "text/plain": [
       "{'A': 3, 'B': 4, 'C': 5, 'D': 7, 'j': None, 'E': 8}"
      ]
     },
     "execution_count": 47,
     "metadata": {},
     "output_type": "execute_result"
    }
   ],
   "source": [
    "dict2.setdefault(\"E\",8)\n",
    "dict2"
   ]
  },
  {
   "cell_type": "code",
   "execution_count": 51,
   "id": "e530ba53",
   "metadata": {},
   "outputs": [
    {
     "name": "stdout",
     "output_type": "stream",
     "text": [
      "None\n"
     ]
    }
   ],
   "source": [
    "print(dict2.get(\"j\"))"
   ]
  },
  {
   "cell_type": "code",
   "execution_count": 52,
   "id": "5a500606",
   "metadata": {},
   "outputs": [],
   "source": [
    "dict2[\"A\"]=9"
   ]
  },
  {
   "cell_type": "code",
   "execution_count": 53,
   "id": "48e223f7",
   "metadata": {},
   "outputs": [
    {
     "data": {
      "text/plain": [
       "{'A': 9, 'B': 4, 'C': 5, 'D': 7, 'j': None, 'E': 8}"
      ]
     },
     "execution_count": 53,
     "metadata": {},
     "output_type": "execute_result"
    }
   ],
   "source": [
    "dict2"
   ]
  },
  {
   "cell_type": "markdown",
   "id": "70034bc2",
   "metadata": {},
   "source": [
    "##### Fromkeys"
   ]
  },
  {
   "cell_type": "code",
   "execution_count": 58,
   "id": "6a0f4624",
   "metadata": {},
   "outputs": [
    {
     "data": {
      "text/plain": [
       "{'F': 3}"
      ]
     },
     "execution_count": 58,
     "metadata": {},
     "output_type": "execute_result"
    }
   ],
   "source": [
    "dict2.fromkeys(\"F\",3)"
   ]
  },
  {
   "cell_type": "code",
   "execution_count": 60,
   "id": "7bbf9af4",
   "metadata": {},
   "outputs": [
    {
     "data": {
      "text/plain": [
       "{'f': 22, 'u': 22, 'j': 22, 'i': 22}"
      ]
     },
     "execution_count": 60,
     "metadata": {},
     "output_type": "execute_result"
    }
   ],
   "source": [
    "dict2.fromkeys(\"fuji\",22)"
   ]
  },
  {
   "cell_type": "code",
   "execution_count": 61,
   "id": "601f33f5",
   "metadata": {},
   "outputs": [
    {
     "data": {
      "text/plain": [
       "{'A': 9, 'B': 4, 'C': 5, 'D': 7, 'j': None, 'E': 8}"
      ]
     },
     "execution_count": 61,
     "metadata": {},
     "output_type": "execute_result"
    }
   ],
   "source": [
    "dict2"
   ]
  },
  {
   "cell_type": "code",
   "execution_count": 65,
   "id": "ab78de94",
   "metadata": {},
   "outputs": [],
   "source": [
    "dict3={}\n",
    "list1=[1,2,3,4,5]\n",
    "dict3=dict3.fromkeys(list1,\"even\")"
   ]
  },
  {
   "cell_type": "code",
   "execution_count": 66,
   "id": "943d35f5",
   "metadata": {},
   "outputs": [
    {
     "data": {
      "text/plain": [
       "{1: 'even', 2: 'even', 3: 'even', 4: 'even', 5: 'even'}"
      ]
     },
     "execution_count": 66,
     "metadata": {},
     "output_type": "execute_result"
    }
   ],
   "source": [
    "dict3"
   ]
  },
  {
   "cell_type": "markdown",
   "id": "dd8d4301",
   "metadata": {},
   "source": [
    "##### - Update"
   ]
  },
  {
   "cell_type": "code",
   "execution_count": 70,
   "id": "57324313",
   "metadata": {},
   "outputs": [],
   "source": [
    "dict1={\"a\":77,\"b\":99}\n",
    "dict1.update(dict2)"
   ]
  },
  {
   "cell_type": "code",
   "execution_count": 72,
   "id": "a2e345b6",
   "metadata": {},
   "outputs": [
    {
     "data": {
      "text/plain": [
       "{'a': 77, 'b': 99, 'A': 9, 'B': 4, 'C': 5, 'D': 7, 'j': None, 'E': 8}"
      ]
     },
     "execution_count": 72,
     "metadata": {},
     "output_type": "execute_result"
    }
   ],
   "source": [
    "dict1"
   ]
  },
  {
   "cell_type": "code",
   "execution_count": 73,
   "id": "bb586bf7",
   "metadata": {},
   "outputs": [
    {
     "data": {
      "text/plain": [
       "{'A': 9, 'B': 4, 'C': 5, 'D': 7, 'j': None, 'E': 8}"
      ]
     },
     "execution_count": 73,
     "metadata": {},
     "output_type": "execute_result"
    }
   ],
   "source": [
    "dict2"
   ]
  },
  {
   "cell_type": "code",
   "execution_count": 78,
   "id": "75b3d1ce",
   "metadata": {},
   "outputs": [
    {
     "data": {
      "text/plain": [
       "[1, 2, 'a', 'b']"
      ]
     },
     "execution_count": 78,
     "metadata": {},
     "output_type": "execute_result"
    }
   ],
   "source": [
    "list1=[1,2]\n",
    "list2=['a','b']\n",
    "list1.extend(list2)\n",
    "list"
   ]
  },
  {
   "cell_type": "code",
   "execution_count": 83,
   "id": "f4633d91",
   "metadata": {},
   "outputs": [
    {
     "data": {
      "text/plain": [
       "{0: 'even',\n",
       " 2: 'even',\n",
       " 4: 'even',\n",
       " 6: 'even',\n",
       " 8: 'even',\n",
       " 10: 'even',\n",
       " 12: 'even',\n",
       " 14: 'even',\n",
       " 16: 'even',\n",
       " 18: 'even'}"
      ]
     },
     "execution_count": 83,
     "metadata": {},
     "output_type": "execute_result"
    }
   ],
   "source": [
    "dict={}\n",
    "for i in range(0,20):\n",
    "    if i%2==0:\n",
    "        dict[i]=\"even\"\n",
    "dict        \n",
    "    "
   ]
  },
  {
   "cell_type": "code",
   "execution_count": 84,
   "id": "78513f26",
   "metadata": {},
   "outputs": [
    {
     "data": {
      "text/plain": [
       "{0: 'even',\n",
       " 2: 'even',\n",
       " 4: 'even',\n",
       " 6: 'even',\n",
       " 8: 'even',\n",
       " 10: 'even',\n",
       " 12: 'even',\n",
       " 14: 'even',\n",
       " 16: 'even',\n",
       " 18: 'even'}"
      ]
     },
     "execution_count": 84,
     "metadata": {},
     "output_type": "execute_result"
    }
   ],
   "source": [
    "dict"
   ]
  },
  {
   "cell_type": "code",
   "execution_count": 86,
   "id": "78239ca4",
   "metadata": {},
   "outputs": [
    {
     "data": {
      "text/plain": [
       "{0: 'even', 4: 'even', 8: 'even', 12: 'even', 16: 'even'}"
      ]
     },
     "execution_count": 86,
     "metadata": {},
     "output_type": "execute_result"
    }
   ],
   "source": [
    "dict={}\n",
    "for i in range(0,20):\n",
    "    if i%4==0:\n",
    "        dict.update({i:\"even\"})\n",
    "dict        \n",
    "    "
   ]
  },
  {
   "cell_type": "code",
   "execution_count": 94,
   "id": "f1f0dc10",
   "metadata": {},
   "outputs": [
    {
     "data": {
      "text/plain": [
       "{0: 'even', 4: 'even', 8: 'even', 12: 'even', 16: 'even'}"
      ]
     },
     "execution_count": 94,
     "metadata": {},
     "output_type": "execute_result"
    }
   ],
   "source": [
    "{i:\"even\" for i in range(0,20) if i%4==0}"
   ]
  },
  {
   "cell_type": "code",
   "execution_count": 95,
   "id": "3d100aaf",
   "metadata": {},
   "outputs": [
    {
     "data": {
      "text/plain": [
       "[{0: 'even'}, {4: 'even'}, {8: 'even'}, {12: 'even'}, {16: 'even'}]"
      ]
     },
     "execution_count": 95,
     "metadata": {},
     "output_type": "execute_result"
    }
   ],
   "source": [
    "list1=[]\n",
    "for i in range(0,20):\n",
    "    if i%4==0:\n",
    "        list1.append({i:\"even\"})\n",
    "list1        "
   ]
  },
  {
   "cell_type": "code",
   "execution_count": 96,
   "id": "f6bb01bb",
   "metadata": {},
   "outputs": [
    {
     "data": {
      "text/plain": [
       "{0: 'even'}"
      ]
     },
     "execution_count": 96,
     "metadata": {},
     "output_type": "execute_result"
    }
   ],
   "source": [
    "list1[0]"
   ]
  },
  {
   "cell_type": "code",
   "execution_count": 97,
   "id": "3717d362",
   "metadata": {},
   "outputs": [
    {
     "data": {
      "text/plain": [
       "[{0: 'even'}, {4: 'even'}, {8: 'even'}, {12: 'even'}, {16: 'even'}]"
      ]
     },
     "execution_count": 97,
     "metadata": {},
     "output_type": "execute_result"
    }
   ],
   "source": [
    "[{i:\"even\"} for i in range(0,20) if i%4==0]"
   ]
  },
  {
   "cell_type": "markdown",
   "id": "fa88a414",
   "metadata": {},
   "source": [
    "- $word$  $frequency$"
   ]
  },
  {
   "cell_type": "code",
   "execution_count": 128,
   "id": "6aa48fa2",
   "metadata": {},
   "outputs": [
    {
     "data": {
      "text/plain": [
       "{'uu': 3, 'yy': 2, 'yyii': 1, 'ooo': 1, 'uuu': 1}"
      ]
     },
     "execution_count": 128,
     "metadata": {},
     "output_type": "execute_result"
    }
   ],
   "source": [
    "string=\"uu yy uu yy uu yyii ooo  uuu \"\n",
    "dict4={}\n",
    "string=string.split()\n",
    "num=string.count(\"uu\")\n",
    "for  i in string:\n",
    "    val=string.count(i)\n",
    "    dict4[i]=val\n",
    "dict4    "
   ]
  },
  {
   "cell_type": "code",
   "execution_count": 130,
   "id": "c9d94182",
   "metadata": {},
   "outputs": [
    {
     "data": {
      "text/plain": [
       "{'Static': 1,\n",
       " 'nuclear': 3,\n",
       " 'properties': 2,\n",
       " '(Time-independent):': 1,\n",
       " 'Electric': 1,\n",
       " 'charge,': 1,\n",
       " 'radius,': 1,\n",
       " 'mass,': 1,\n",
       " 'binding': 1,\n",
       " 'energy,': 1,\n",
       " 'angular': 1,\n",
       " 'momentum,': 1,\n",
       " 'parity,': 1,\n",
       " 'magnetic': 1,\n",
       " 'dipole': 1,\n",
       " 'moment,': 2,\n",
       " 'electric': 1,\n",
       " 'quadrupole': 1,\n",
       " 'energies': 1,\n",
       " 'of': 1,\n",
       " 'excited': 1,\n",
       " 'states.': 1,\n",
       " 'Dynamic': 1,\n",
       " '(Time-dependent):': 1,\n",
       " 'Self-induced': 1,\n",
       " '(Radioactive': 1,\n",
       " 'decay).': 1,\n",
       " 'Forced': 1,\n",
       " '(Nuclear': 1,\n",
       " 'reactions)': 1,\n",
       " '▶': 1,\n",
       " 'cross': 1,\n",
       " 'sections.': 1,\n",
       " 'Excited': 1,\n",
       " 'states:': 1,\n",
       " 'atomic': 1,\n",
       " 'intervals': 2,\n",
       " '~': 2,\n",
       " 'eV.': 2,\n",
       " '104': 1,\n",
       " '–': 1,\n",
       " '106': 1,\n",
       " 'Decays': 1,\n",
       " 'and': 2,\n",
       " 'reactions:': 1,\n",
       " 'Conservation': 1,\n",
       " 'laws': 1,\n",
       " 'selection': 1,\n",
       " 'rules.': 1,\n",
       " 'The': 1,\n",
       " 'key': 1,\n",
       " 'to': 2,\n",
       " 'understand': 1,\n",
       " 'all': 1,\n",
       " 'properties:': 1,\n",
       " 'Interaction': 1,\n",
       " 'between': 1,\n",
       " 'individual': 1,\n",
       " 'nucleons.': 1,\n",
       " 'A': 1,\n",
       " 'big': 1,\n",
       " 'challenge': 1,\n",
       " 'physicists.': 1}"
      ]
     },
     "execution_count": 130,
     "metadata": {},
     "output_type": "execute_result"
    }
   ],
   "source": [
    "string=\"\"\"Static nuclear properties (Time-independent):\n",
    "\n",
    "Electric charge, radius, mass, binding energy, angular momentum, parity,\n",
    "magnetic dipole moment, electric quadrupole moment, energies of excited\n",
    "states.\n",
    "\n",
    "Dynamic properties (Time-dependent):\n",
    "\n",
    "Self-induced (Radioactive decay).\n",
    "\n",
    "Forced (Nuclear reactions) ▶ cross sections.\n",
    "\n",
    "Excited states:\n",
    "\n",
    "atomic intervals ~ eV.\n",
    "\n",
    "nuclear intervals ~ 104 – 106 eV.\n",
    "\n",
    "Decays and reactions: Conservation laws and selection rules.\n",
    "\n",
    "The key to understand all properties: Interaction between individual\n",
    "nucleons. A big challenge to nuclear physicists.\"\"\"\n",
    "dict4={}\n",
    "string=string.split()\n",
    "num=string.count(\"uu\")\n",
    "for  i in string:\n",
    "    val=string.count(i)\n",
    "    dict4[i]=val\n",
    "dict4    "
   ]
  },
  {
   "cell_type": "code",
   "execution_count": null,
   "id": "8098de49",
   "metadata": {},
   "outputs": [],
   "source": []
  }
 ],
 "metadata": {
  "kernelspec": {
   "display_name": "Python 3 (ipykernel)",
   "language": "python",
   "name": "python3"
  },
  "language_info": {
   "codemirror_mode": {
    "name": "ipython",
    "version": 3
   },
   "file_extension": ".py",
   "mimetype": "text/x-python",
   "name": "python",
   "nbconvert_exporter": "python",
   "pygments_lexer": "ipython3",
   "version": "3.11.4"
  }
 },
 "nbformat": 4,
 "nbformat_minor": 5
}
